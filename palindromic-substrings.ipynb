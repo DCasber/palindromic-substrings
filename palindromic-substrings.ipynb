{
 "cells": [
  {
   "cell_type": "markdown",
   "metadata": {},
   "source": [
    "## Problem Statement : Palindromic Substrings\n",
    "\n",
    "\n",
    "> Given a string, your task is to count how many palindromic substrings are in this string.\n",
    "\n",
    "> The substrings with different start indexes or end indexes are counted as different substrings even they consist of same characters.\n",
    "\n",
    "\n",
    "Link Source: https://leetcode.com/problems/palindromic-substrings/"
   ]
  },
  {
   "cell_type": "markdown",
   "metadata": {},
   "source": [
    "## The Method\n",
    "\n",
    "Here's the systematic strategy we'll apply to solve this problem:\n",
    "\n",
    "1. State the problem clearly. Identify the input & output formats.\n",
    "2. Come up with some example inputs & outputs. Try to cover all edge cases.\n",
    "3. Come up with a correct solution for the problem. \n",
    "4. Implement the solution and test it using example inputs. Fix bugs, if any.\n",
    "5. Analyze the algorithm's complexity and identify inefficiencies, if any.\n",
    "6. Apply the right technique to overcome the inefficiency. Repeat steps 3 to 6.\n"
   ]
  },
  {
   "cell_type": "markdown",
   "metadata": {},
   "source": [
    "### 1. State the problem clearly. Identify the input & output formats.\n",
    "\n",
    "**Problem**\n",
    "\n",
    "> We need to write a program to find the number of palindromic substrings in a given string. \n",
    "\n",
    "<br/>\n",
    "\n",
    "\n",
    "**Input**\n",
    "\n",
    "1. string : The string we want to know how many palindromic substrings has.\n",
    "\n",
    "**Output**\n",
    "\n",
    "1. result : A number which indicates how many palindromic substrings has our input string.\n",
    "\n",
    "\n",
    "<br/>\n",
    "\n",
    "Based on the above, we can now create a signature of our function:"
   ]
  },
  {
   "cell_type": "code",
   "execution_count": 1,
   "metadata": {},
   "outputs": [],
   "source": [
    "def countPalindromicSubstrings(string):\n",
    "    pass"
   ]
  },
  {
   "cell_type": "markdown",
   "metadata": {},
   "source": [
    "### 2. Come up with some example inputs & outputs. Try to cover all edge cases.\n",
    "\n",
    "Our function should be able to handle any set of valid inputs we pass into it. Here's a list of some possible variations we might encounter:\n",
    "\n",
    "1. **Empty string**\n",
    "2. **One whitespace character**\n",
    "3. **One character**\n",
    "4. **Repeated characters**\n",
    "5. **Only characters as palindromic substrings themselves**\n",
    "6. **Palindromic string with palindromic substrings**\n",
    "7. **Long string with multiple palindromic substrings**\n",
    "\n",
    "We'll express our test cases as dictionaries, to test them easily. Each dictionary will contain 2 keys: `input` (a dictionary itself containing one key for each argument to the function and `output` (the expected result from the function). "
   ]
  },
  {
   "cell_type": "code",
   "execution_count": 2,
   "metadata": {},
   "outputs": [],
   "source": [
    "test1 = {\n",
    "    'input': {\n",
    "       'string': \"\"\n",
    "    },\n",
    "    'output': 0  \n",
    "}"
   ]
  },
  {
   "cell_type": "code",
   "execution_count": 3,
   "metadata": {},
   "outputs": [],
   "source": [
    "test2 = {\n",
    "    'input': {\n",
    "       'string': \" \"\n",
    "    },\n",
    "    'output': 0 \n",
    "}"
   ]
  },
  {
   "cell_type": "code",
   "execution_count": 4,
   "metadata": {},
   "outputs": [],
   "source": [
    "test3 = {\n",
    "        'input': {\n",
    "       'string': \"a\"\n",
    "    },\n",
    "    'output': 1    # --> \"a\"\n",
    "}"
   ]
  },
  {
   "cell_type": "code",
   "execution_count": 5,
   "metadata": {},
   "outputs": [],
   "source": [
    "test4 = {\n",
    "      'input': {\n",
    "       'string': \"aaa\"\n",
    "    },\n",
    "    'output': 6    # --> \"a\", \"a\", \"a\", \"aa\", \"aa\", \"aaa\"\n",
    "}"
   ]
  },
  {
   "cell_type": "code",
   "execution_count": 6,
   "metadata": {},
   "outputs": [],
   "source": [
    "test5 = {\n",
    "     'input': {\n",
    "       'string': \"abc\"\n",
    "    },\n",
    "    'output': 3     # --> \"a\", \"b\", \"c\"\n",
    "}"
   ]
  },
  {
   "cell_type": "code",
   "execution_count": 7,
   "metadata": {},
   "outputs": [],
   "source": [
    "test6 = {\n",
    "    'input': {\n",
    "    'string': \"abba\"\n",
    "    },\n",
    "    'output': 6    # --> \"a\", \"b\", \"b\", \"a\", \"bb\", \"abba\"\n",
    "}"
   ]
  },
  {
   "cell_type": "code",
   "execution_count": 8,
   "metadata": {},
   "outputs": [],
   "source": [
    "test7 = {\n",
    "    'input': {\n",
    "       'string': \"ababcccb\"\n",
    "    },\n",
    "    'output': 14     # -->  \"a\", \"b\", \"a\", \"b\", \"c\", \"c\", \"c\", \"b\", \"aba\", \"bab\",\"cc\", \"cc\", \"ccc\", \"bcccb\"\n",
    "}"
   ]
  },
  {
   "cell_type": "markdown",
   "metadata": {},
   "source": [
    "Create one test case for each of the scenarios listed above. We'll store our test cases in an array called `tests`."
   ]
  },
  {
   "cell_type": "code",
   "execution_count": 9,
   "metadata": {},
   "outputs": [],
   "source": [
    "tests = [test1, test2, test3, test4, test5, test6, test7]"
   ]
  },
  {
   "cell_type": "markdown",
   "metadata": {},
   "source": [
    "### 3. Come up with a correct solution for the problem. State it in plain English.\n",
    "\n",
    "Our first goal should always be to come up with a _correct_ solution to the problem, which may not necessarily be the most _efficient_ solution. Come with a correct solution and explain it in simple words below:\n",
    "\n",
    "1. **We will not consider the whitespace character as a character, so we have to ensure that our input string does not have whitespaces.**\n",
    "2. **Then, we will iterate over the string from the beggining to the end and from the end to the beggining.**\n",
    "3. **If both characters of the string are the same, we start to check if we have a palindromic substring with the additional function** `checkPalindromic` **, which will return 1 if we have one.**\n",
    "5. **We will save in** `res` **the number of palindromic substrings we get.**"
   ]
  },
  {
   "cell_type": "markdown",
   "metadata": {},
   "source": [
    "###  4. Implement the solution and test it using example inputs. Fix bugs, if any."
   ]
  },
  {
   "cell_type": "code",
   "execution_count": 10,
   "metadata": {},
   "outputs": [],
   "source": [
    "def countPalindromicSubstrings(string):\n",
    "    string = string.strip()\n",
    "    res = 0\n",
    "    for i in range(len(string)):\n",
    "        for j in range(len(string)-1, -1, -1):\n",
    "            if string[i] == string[j]:\n",
    "                res += checkPalindromic(string,i,j)\n",
    "                \n",
    "    return res \n",
    "\n",
    "\n",
    "def checkPalindromic(string, i, j):\n",
    "    if(i > j):\n",
    "        return 0\n",
    "    \n",
    "    while(i < j):\n",
    "        i+=1\n",
    "        j-=1\n",
    "        if(string[i] != string[j]):\n",
    "            return 0\n",
    "    \n",
    "    return 1"
   ]
  },
  {
   "cell_type": "markdown",
   "metadata": {},
   "source": [
    "Let's evaluate our function against all the test cases together using the `evaluate_test_cases` function from `jovian`."
   ]
  },
  {
   "cell_type": "code",
   "execution_count": 11,
   "metadata": {},
   "outputs": [],
   "source": [
    "from jovian.pythondsa import evaluate_test_cases"
   ]
  },
  {
   "cell_type": "code",
   "execution_count": 12,
   "metadata": {},
   "outputs": [
    {
     "name": "stdout",
     "output_type": "stream",
     "text": [
      "\n",
      "\u001b[1mTEST CASE #0\u001b[0m\n",
      "\n",
      "Input:\n",
      "{'string': ''}\n",
      "\n",
      "Expected Output:\n",
      "0\n",
      "\n",
      "\n",
      "Actual Output:\n",
      "0\n",
      "\n",
      "Execution Time:\n",
      "0.005 ms\n",
      "\n",
      "Test Result:\n",
      "\u001b[92mPASSED\u001b[0m\n",
      "\n",
      "\n",
      "\u001b[1mTEST CASE #1\u001b[0m\n",
      "\n",
      "Input:\n",
      "{'string': ' '}\n",
      "\n",
      "Expected Output:\n",
      "0\n",
      "\n",
      "\n",
      "Actual Output:\n",
      "0\n",
      "\n",
      "Execution Time:\n",
      "0.003 ms\n",
      "\n",
      "Test Result:\n",
      "\u001b[92mPASSED\u001b[0m\n",
      "\n",
      "\n",
      "\u001b[1mTEST CASE #2\u001b[0m\n",
      "\n",
      "Input:\n",
      "{'string': 'a'}\n",
      "\n",
      "Expected Output:\n",
      "1\n",
      "\n",
      "\n",
      "Actual Output:\n",
      "1\n",
      "\n",
      "Execution Time:\n",
      "0.007 ms\n",
      "\n",
      "Test Result:\n",
      "\u001b[92mPASSED\u001b[0m\n",
      "\n",
      "\n",
      "\u001b[1mTEST CASE #3\u001b[0m\n",
      "\n",
      "Input:\n",
      "{'string': 'aaa'}\n",
      "\n",
      "Expected Output:\n",
      "6\n",
      "\n",
      "\n",
      "Actual Output:\n",
      "6\n",
      "\n",
      "Execution Time:\n",
      "0.012 ms\n",
      "\n",
      "Test Result:\n",
      "\u001b[92mPASSED\u001b[0m\n",
      "\n",
      "\n",
      "\u001b[1mTEST CASE #4\u001b[0m\n",
      "\n",
      "Input:\n",
      "{'string': 'abc'}\n",
      "\n",
      "Expected Output:\n",
      "3\n",
      "\n",
      "\n",
      "Actual Output:\n",
      "3\n",
      "\n",
      "Execution Time:\n",
      "0.008 ms\n",
      "\n",
      "Test Result:\n",
      "\u001b[92mPASSED\u001b[0m\n",
      "\n",
      "\n",
      "\u001b[1mTEST CASE #5\u001b[0m\n",
      "\n",
      "Input:\n",
      "{'string': 'abba'}\n",
      "\n",
      "Expected Output:\n",
      "6\n",
      "\n",
      "\n",
      "Actual Output:\n",
      "6\n",
      "\n",
      "Execution Time:\n",
      "0.011 ms\n",
      "\n",
      "Test Result:\n",
      "\u001b[92mPASSED\u001b[0m\n",
      "\n",
      "\n",
      "\u001b[1mTEST CASE #6\u001b[0m\n",
      "\n",
      "Input:\n",
      "{'string': 'ababcccb'}\n",
      "\n",
      "Expected Output:\n",
      "14\n",
      "\n",
      "\n",
      "Actual Output:\n",
      "14\n",
      "\n",
      "Execution Time:\n",
      "0.026 ms\n",
      "\n",
      "Test Result:\n",
      "\u001b[92mPASSED\u001b[0m\n",
      "\n",
      "\n",
      "\u001b[1mSUMMARY\u001b[0m\n",
      "\n",
      "TOTAL: 7, \u001b[92mPASSED\u001b[0m: 7, \u001b[91mFAILED\u001b[0m: 0\n"
     ]
    },
    {
     "data": {
      "text/plain": [
       "[(0, True, 0.005),\n",
       " (0, True, 0.003),\n",
       " (1, True, 0.007),\n",
       " (6, True, 0.012),\n",
       " (3, True, 0.008),\n",
       " (6, True, 0.011),\n",
       " (14, True, 0.026)]"
      ]
     },
     "execution_count": 12,
     "metadata": {},
     "output_type": "execute_result"
    }
   ],
   "source": [
    "evaluate_test_cases(countPalindromicSubstrings,tests)"
   ]
  },
  {
   "cell_type": "markdown",
   "metadata": {},
   "source": [
    "### 5. Analyze the algorithm's complexity and identify inefficiencies, if any."
   ]
  },
  {
   "cell_type": "code",
   "execution_count": 13,
   "metadata": {},
   "outputs": [],
   "source": [
    "space_complexity1 = \"O(1)\""
   ]
  },
  {
   "cell_type": "markdown",
   "metadata": {},
   "source": [
    "As we do not need any additional structure in our function, only iterate over the string, the space complexity is O(1)"
   ]
  },
  {
   "cell_type": "code",
   "execution_count": 14,
   "metadata": {},
   "outputs": [],
   "source": [
    "time_complexity1 = \"O(N^3)\""
   ]
  },
  {
   "cell_type": "markdown",
   "metadata": {},
   "source": [
    "As we have three nested loops, the time complexity is O(N^3), which implies low efficiency with long strings."
   ]
  },
  {
   "cell_type": "markdown",
   "metadata": {},
   "source": [
    "### 6. Apply the right technique to overcome the inefficiency. Repeat steps 3 to 6."
   ]
  },
  {
   "cell_type": "markdown",
   "metadata": {},
   "source": [
    "As we have seen above, time complexity indicates that bruce force algorithm is inefficient. In order to improve it, we will apply Dynamic Programming reusing previously calculated results. "
   ]
  },
  {
   "cell_type": "markdown",
   "metadata": {},
   "source": [
    "Even though we will get space complexity of O(N^2) (as we will need one matrix to store the calculated results), we will improve time complexity."
   ]
  },
  {
   "cell_type": "markdown",
   "metadata": {},
   "source": [
    "Let's see the two characteristics of a dynamic programming problem:"
   ]
  },
  {
   "cell_type": "markdown",
   "metadata": {},
   "source": [
    "**1) Optimal substructure:** In this case, if we have one string whose first and last letter are the same, it is a potential palindrome. It would be enough proving that the rest of the substring is a palindromic too. As we have only one subproblem, this will be optimal."
   ]
  },
  {
   "cell_type": "markdown",
   "metadata": {},
   "source": [
    "**2) Overlapping sub-problems:** As we have seen above, we have to check if our input string has palindromic substrings. If we store the result of processing those smaller substrings, we can reuse those while processing larger substrings. "
   ]
  },
  {
   "cell_type": "markdown",
   "metadata": {},
   "source": [
    "### 7. Come up with a correct solution for the problem. \n",
    "\n",
    "Come with the optimized correct solution and explain it in simple words below:\n",
    "\n",
    "1. **We will not consider the whitespace character as a character, so we have to ensure that our input string does not have whitespaces.**<br/>\n",
    "2. **Then, we will store in** `count` **the number of palindromic substrings. In addition, we will create a matrix** `results` **in which we will store the calculated results.**<br/>\n",
    "3. **Firstly, we increment** `count` **by one for every letter in our input string (as it is considered a palindromic substring itself)**<br/>\n",
    "4. **Secondly, we check every pair of two adjacent letters in our input string (if both are the same, we have a palindromic substring)**<br/>\n",
    "5. **Lastly, we check possible palindromic substrings of length 3 or more. For this case, we check from 3 to n the number of palindromic substrings iteratively:** <br/>\n",
    "    -Checking the first and last letter of the substring (if both are the same) <br/>\n",
    "    -Checking the rest of the substring (without the first and the last letter, using Dynamic Programming with `results`)"
   ]
  },
  {
   "cell_type": "markdown",
   "metadata": {},
   "source": [
    "### 8. Implement the solution and test it using example inputs. Fix bugs, if any."
   ]
  },
  {
   "cell_type": "code",
   "execution_count": 15,
   "metadata": {},
   "outputs": [],
   "source": [
    "def countPalindromicSubstringsDP(string):\n",
    "    string = string.strip()\n",
    "    length = len(string)\n",
    "    count = 0\n",
    "    \n",
    "    if (length > 0):\n",
    "        \n",
    "        results = [[0*(len(string))]*(len(string)) for i in range(0,len(string))]\n",
    "        # Base Case 1 : One letter\n",
    "        \n",
    "        for i in range(length):\n",
    "            results[i][i] = 1\n",
    "            count += 1\n",
    "        \n",
    "        # Base Case 2 : Double letter\n",
    "        \n",
    "        for i in range(length - 1):\n",
    "            if string[i] == string[i+1]:\n",
    "                results[i][i+1] = 1\n",
    "                count += 1\n",
    "                \n",
    "        # All other cases : length 3 to n\n",
    "        \n",
    "        for k in range(3, length + 1):\n",
    "            for i in range(length - k + 1):\n",
    "                j = i + k - 1\n",
    "                if string[i] == string[j] and results[i+1][j-1] == 1:\n",
    "                    results[i][j] = 1\n",
    "                    count += 1\n",
    "\n",
    "    return count"
   ]
  },
  {
   "cell_type": "code",
   "execution_count": 16,
   "metadata": {},
   "outputs": [],
   "source": [
    "from jovian.pythondsa import evaluate_test_cases"
   ]
  },
  {
   "cell_type": "code",
   "execution_count": 17,
   "metadata": {},
   "outputs": [
    {
     "name": "stdout",
     "output_type": "stream",
     "text": [
      "\n",
      "\u001b[1mTEST CASE #0\u001b[0m\n",
      "\n",
      "Input:\n",
      "{'string': ''}\n",
      "\n",
      "Expected Output:\n",
      "0\n",
      "\n",
      "\n",
      "Actual Output:\n",
      "0\n",
      "\n",
      "Execution Time:\n",
      "0.005 ms\n",
      "\n",
      "Test Result:\n",
      "\u001b[92mPASSED\u001b[0m\n",
      "\n",
      "\n",
      "\u001b[1mTEST CASE #1\u001b[0m\n",
      "\n",
      "Input:\n",
      "{'string': ' '}\n",
      "\n",
      "Expected Output:\n",
      "0\n",
      "\n",
      "\n",
      "Actual Output:\n",
      "0\n",
      "\n",
      "Execution Time:\n",
      "0.003 ms\n",
      "\n",
      "Test Result:\n",
      "\u001b[92mPASSED\u001b[0m\n",
      "\n",
      "\n",
      "\u001b[1mTEST CASE #2\u001b[0m\n",
      "\n",
      "Input:\n",
      "{'string': 'a'}\n",
      "\n",
      "Expected Output:\n",
      "1\n",
      "\n",
      "\n",
      "Actual Output:\n",
      "1\n",
      "\n",
      "Execution Time:\n",
      "0.011 ms\n",
      "\n",
      "Test Result:\n",
      "\u001b[92mPASSED\u001b[0m\n",
      "\n",
      "\n",
      "\u001b[1mTEST CASE #3\u001b[0m\n",
      "\n",
      "Input:\n",
      "{'string': 'aaa'}\n",
      "\n",
      "Expected Output:\n",
      "6\n",
      "\n",
      "\n",
      "Actual Output:\n",
      "6\n",
      "\n",
      "Execution Time:\n",
      "0.013 ms\n",
      "\n",
      "Test Result:\n",
      "\u001b[92mPASSED\u001b[0m\n",
      "\n",
      "\n",
      "\u001b[1mTEST CASE #4\u001b[0m\n",
      "\n",
      "Input:\n",
      "{'string': 'abc'}\n",
      "\n",
      "Expected Output:\n",
      "3\n",
      "\n",
      "\n",
      "Actual Output:\n",
      "3\n",
      "\n",
      "Execution Time:\n",
      "0.01 ms\n",
      "\n",
      "Test Result:\n",
      "\u001b[92mPASSED\u001b[0m\n",
      "\n",
      "\n",
      "\u001b[1mTEST CASE #5\u001b[0m\n",
      "\n",
      "Input:\n",
      "{'string': 'abba'}\n",
      "\n",
      "Expected Output:\n",
      "6\n",
      "\n",
      "\n",
      "Actual Output:\n",
      "6\n",
      "\n",
      "Execution Time:\n",
      "0.013 ms\n",
      "\n",
      "Test Result:\n",
      "\u001b[92mPASSED\u001b[0m\n",
      "\n",
      "\n",
      "\u001b[1mTEST CASE #6\u001b[0m\n",
      "\n",
      "Input:\n",
      "{'string': 'ababcccb'}\n",
      "\n",
      "Expected Output:\n",
      "14\n",
      "\n",
      "\n",
      "Actual Output:\n",
      "14\n",
      "\n",
      "Execution Time:\n",
      "0.024 ms\n",
      "\n",
      "Test Result:\n",
      "\u001b[92mPASSED\u001b[0m\n",
      "\n",
      "\n",
      "\u001b[1mSUMMARY\u001b[0m\n",
      "\n",
      "TOTAL: 7, \u001b[92mPASSED\u001b[0m: 7, \u001b[91mFAILED\u001b[0m: 0\n"
     ]
    },
    {
     "data": {
      "text/plain": [
       "[(0, True, 0.005),\n",
       " (0, True, 0.003),\n",
       " (1, True, 0.011),\n",
       " (6, True, 0.013),\n",
       " (3, True, 0.01),\n",
       " (6, True, 0.013),\n",
       " (14, True, 0.024)]"
      ]
     },
     "execution_count": 17,
     "metadata": {},
     "output_type": "execute_result"
    }
   ],
   "source": [
    "evaluate_test_cases(countPalindromicSubstringsDP,tests)"
   ]
  },
  {
   "cell_type": "markdown",
   "metadata": {},
   "source": [
    "### 9. Analyze the algorithm's complexity and identify inefficiencies, if any."
   ]
  },
  {
   "cell_type": "code",
   "execution_count": 18,
   "metadata": {},
   "outputs": [],
   "source": [
    "space_complexity2 = \"O(N^2)\""
   ]
  },
  {
   "cell_type": "markdown",
   "metadata": {},
   "source": [
    "As we need a matrix to store the calculated results, our space complexity is O(N^2)"
   ]
  },
  {
   "cell_type": "code",
   "execution_count": 19,
   "metadata": {},
   "outputs": [],
   "source": [
    "time_complexity2 = \"O(N^2)\""
   ]
  },
  {
   "cell_type": "markdown",
   "metadata": {},
   "source": [
    "As we have two nested loops, our time complexity is O(N^2), which is more efficient than brute force algorithm."
   ]
  },
  {
   "cell_type": "markdown",
   "metadata": {},
   "source": [
    "Let's compare both algorithms:"
   ]
  },
  {
   "cell_type": "code",
   "execution_count": 20,
   "metadata": {},
   "outputs": [],
   "source": [
    "string = \"ababcccbababcccbababcccbababcccbababcccbababcccbababcccbababcccbababcccbababcccbababcccbababcccbababcccbababcccbababcccbababcccbababcccbababcccbababcccbababcccbababcccbababcccbababcccbababcccbababcccbababcccbababcccbababcccbababcccbababcccbababcccbababcccbababcccbababcccbababcccbababcccbababcccbababcccbababcccbababcccbababcccbababcccbababcccbababcccbababcccbababcccbababcccbababcccbababcccbababcccbababcccbababcccbababcccbababcccbvababcccbababcccbababcccbababcccbababcccbababcccbababcccbababcccbababcccbababcccbababcccbababcccbababcccbababcccbababcccbababcccbababcccbababcccbababcccbababcccbababcccbababcccbababcccbababcccbababcccbababcccbababcccbababcccbababcccbababcccbababcccbababcccbababcccbababcccbababcccbababcccbababcccbababcccbababcccbababcccbababcccbababcccbababcccbababcccbababcccbababcccbababcccbababcccbababcccbababcccbababcccbababcccbababcccbababcccbvababcccbababcccbababcccbababcccbababcccbababcccbababcccbababcccbababcccbababcccbababcccbababcccbababcccbababcccbababcccbababcccbababcccbababcccbababcccbababcccbababcccbababcccbababcccbababcccbababcccbababcccbababcccbababcccbababcccbababcccbababcccbababcccbababcccbababcccbababcccbababcccbababcccbababcccbababcccbababcccbababcccbababcccbababcccbababcccbababcccbababcccbababcccbababcccbababcccbababcccbababcccbababcccbababcccbababcccbvababcccbababcccbababcccbababcccbababcccbababcccbababcccbababcccbababcccbababcccbababcccbababcccbababcccbababcccbababcccbababcccbababcccbababcccbababcccbababcccbababcccbababcccbababcccbababcccbababcccbababcccbababcccbababcccbababcccbababcccbababcccbababcccbababcccbababcccbababcccbababcccbababcccbababcccbababcccbababcccbababcccbababcccbababcccbababcccbababcccbababcccbababcccbababcccbababcccbababcccbababcccbababcccbababcccbababcccbvababcccbababcccbababcccbababcccbababcccbababcccbababcccbababcccbababcccbababcccbababcccbababcccbababcccbababcccbababcccbababcccbababcccbababcccbababcccbababcccbababcccbababcccbababcccbababcccbababcccbababcccbababcccbababcccbababcccbababcccbababcccbababcccbababcccbababcccbababcccbababcccbababcccbababcccbababcccbababcccbababcccbababcccbababcccbababcccbababcccbababcccbababcccbababcccbababcccbababcccbababcccbababcccbababcccbababcccbvababcccbababcccbababcccbababcccbababcccbababcccbababcccbababcccbababcccbababcccbababcccbababcccbababcccbababcccbababcccbababcccbababcccbababcccbababcccbababcccbababcccbababcccbababcccbababcccbababcccbababcccbababcccbababcccbababcccbababcccbababcccbababcccbababcccbababcccbababcccbababcccbababcccbababcccbababcccbababcccbababcccbababcccbababcccbababcccbababcccbababcccbababcccbababcccbababcccbababcccbababcccbababcccbababcccbababcccbvababcccbababcccbababcccbababcccbababcccbababcccbababcccbababcccbababcccbababcccbababcccbababcccbababcccbababcccbababcccbababcccbababcccbababcccbababcccbababcccbababcccbababcccbababcccbababcccbababcccbababcccbababcccbababcccbababcccbababcccbababcccbababcccbababcccbababcccbababcccbababcccbababcccbababcccbababcccbababcccbababcccbababcccbababcccbababcccbababcccbababcccbababcccbababcccbababcccbababcccbababcccbababcccbababcccbababcccbvababcccbababcccbababcccbababcccbababcccbababcccbababcccbababcccbababcccbababcccbababcccbababcccbababcccbababcccbababcccbababcccbababcccbababcccbababcccbababcccbababcccbababcccbababcccbababcccbababcccbababcccbababcccbababcccbababcccbababcccbababcccbababcccbababcccbababcccbababcccbababcccbababcccbababcccbababcccbababcccbababcccbababcccbababcccbababcccbababcccbababcccbababcccbababcccbababcccbababcccbababcccbababcccbababcccbababcccbvababcccbababcccbababcccbababcccbababcccbababcccbababcccbababcccbababcccbababcccbababcccbababcccbababcccbababcccbababcccbababcccbababcccbababcccbababcccbababcccbababcccbababcccbababcccbababcccbababcccbababcccbababcccbababcccbababcccbababcccbababcccbababcccbababcccbababcccbababcccbababcccbababcccbababcccbababcccbababcccbababcccbababcccbababcccbababcccbababcccbababcccbababcccbababcccbababcccbababcccbababcccbababcccbababcccbababcccbvababcccbababcccbababcccbababcccbababcccbababcccbababcccbababcccbababcccbababcccbababcccbababcccbababcccbababcccbababcccbababcccbababcccbababcccbababcccbababcccbababcccbababcccbababcccbababcccbababcccbababcccbababcccbababcccbababcccbababcccbababcccbababcccbababcccbababcccbababcccbababcccbababcccbababcccbababcccbababcccbababcccbababcccbababcccbababcccbababcccbababcccbababcccbababcccbababcccbababcccbababcccbababcccbababcccbababcccbvababcccbababcccbababcccbababcccbababcccbababcccbababcccbababcccbababcccbababcccbababcccbababcccbababcccbababcccbababcccbababcccbababcccbababcccbababcccbababcccbababcccbababcccbababcccbababcccbababcccbababcccbababcccbababcccbababcccbababcccbababcccbababcccbababcccbababcccbababcccbababcccbababcccbababcccbababcccbababcccbababcccbababcccbababcccbababcccbababcccbababcccbababcccbababcccbababcccbababcccbababcccbababcccbababcccbababcccbvababcccbababcccbababcccbababcccbababcccbababcccbababcccbababcccbababcccbababcccbababcccbababcccbababcccbababcccbababcccbababcccbababcccbababcccbababcccbababcccbababcccbababcccbababcccbababcccbababcccbababcccbababcccbababcccbababcccbababcccbababcccbababcccbababcccbababcccbababcccbababcccbababcccbababcccbababcccbababcccbababcccbababcccbababcccbababcccbababcccbababcccbababcccbababcccbababcccbababcccbababcccbababcccbababcccbababcccbvababcccbababcccbababcccbababcccbababcccbababcccbababcccbababcccbababcccbababcccbababcccbababcccbababcccbababcccbababcccbababcccbababcccbababcccbababcccbababcccbababcccbababcccbababcccbababcccbababcccbababcccbababcccbababcccbababcccbababcccbababcccbababcccbababcccbababcccbababcccbababcccbababcccbababcccbababcccbababcccbababcccbababcccbababcccbababcccbababcccbababcccbababcccbababcccbababcccbababcccbababcccbababcccbababcccbababcccbvababcccbababcccbababcccbababcccbababcccbababcccbababcccbababcccbababcccbababcccbababcccbababcccbababcccbababcccbababcccbababcccbababcccbababcccbababcccbababcccbababcccbababcccbababcccbababcccbababcccbababcccbababcccbababcccbababcccbababcccbababcccbababcccbababcccbababcccbababcccbababcccbababcccbababcccbababcccbababcccbababcccbababcccbababcccbababcccbababcccbababcccbababcccbababcccbababcccbababcccbababcccbababcccbababcccbababcccbvababcccbababcccbababcccbababcccbababcccbababcccbababcccbababcccbababcccbababcccbababcccbababcccbababcccbababcccbababcccbababcccbababcccbababcccbababcccbababcccbababcccbababcccbababcccbababcccbababcccbababcccbababcccbababcccbababcccbababcccbababcccbababcccbababcccbababcccbababcccbababcccbababcccbababcccbababcccbababcccbababcccbababcccbababcccbababcccbababcccbababcccbababcccbababcccbababcccbababcccbababcccbababcccbababcccbababcccbvababcccbababcccbababcccbababcccbababcccbababcccbababcccbababcccbababcccbababcccbababcccbababcccbababcccbababcccbababcccbababcccbababcccbababcccbababcccbababcccbababcccbababcccbababcccbababcccbababcccbababcccbababcccbababcccbababcccbababcccbababcccbababcccbababcccbababcccbababcccbababcccbababcccbababcccbababcccbababcccbababcccbababcccbababcccbababcccbababcccbababcccbababcccbababcccbababcccbababcccbababcccbababcccbababcccbababcccbvababcccbababcccbababcccbababcccbababcccbababcccbababcccbababcccbababcccbababcccbababcccbababcccbababcccbababcccbababcccbababcccbababcccbababcccbababcccbababcccbababcccbababcccbababcccbababcccbababcccbababcccbababcccbababcccbababcccbababcccbababcccbababcccbababcccbababcccbababcccbababcccbababcccbababcccbababcccbababcccbababcccbababcccbababcccbababcccbababcccbababcccbababcccbababcccbababcccbababcccbababcccbababcccbababcccbababcccbvababcccbababcccbababcccbababcccbababcccbababcccbababcccbababcccbababcccbababcccbababcccbababcccbababcccbababcccbababcccbababcccbababcccbababcccbababcccbababcccbababcccbababcccbababcccbababcccbababcccbababcccbababcccbababcccbababcccbababcccbababcccbababcccbababcccbababcccbababcccbababcccbababcccbababcccbababcccbababcccbababcccbababcccbababcccbababcccbababcccbababcccbababcccbababcccbababcccbababcccbababcccbababcccbababcccbababcccbvababcccbababcccbababcccbababcccbababcccbababcccbababcccbababcccbababcccbababcccbababcccbababcccbababcccbababcccbababcccbababcccbababcccbababcccbababcccbababcccbababcccbababcccbababcccbababcccbababcccbababcccbababcccbababcccbababcccbababcccbababcccbababcccbababcccbababcccbababcccbababcccbababcccbababcccbababcccbababcccbababcccbababcccbababcccbababcccbababcccbababcccbababcccbababcccbababcccbababcccbababcccbababcccbababcccbababcccbvababcccbababcccbababcccbababcccbababcccbababcccbababcccbababcccbababcccbababcccbababcccbababcccbababcccbababcccbababcccbababcccbababcccbababcccbababcccbababcccbababcccbababcccbababcccbababcccbababcccbababcccbababcccbababcccbababcccbababcccbababcccbababcccbababcccbababcccbababcccbababcccbababcccbababcccbababcccbababcccbababcccbababcccbababcccbababcccbababcccbababcccbababcccbababcccbababcccbababcccbababcccbababcccbababcccbababcccbv\""
   ]
  },
  {
   "cell_type": "code",
   "execution_count": 21,
   "metadata": {},
   "outputs": [
    {
     "name": "stdout",
     "output_type": "stream",
     "text": [
      "CPU times: user 1min 52s, sys: 0 ns, total: 1min 52s\n",
      "Wall time: 1min 52s\n"
     ]
    },
    {
     "data": {
      "text/plain": [
       "245160"
      ]
     },
     "execution_count": 21,
     "metadata": {},
     "output_type": "execute_result"
    }
   ],
   "source": [
    "%%time\n",
    "countPalindromicSubstrings(string)"
   ]
  },
  {
   "cell_type": "code",
   "execution_count": 22,
   "metadata": {},
   "outputs": [
    {
     "name": "stdout",
     "output_type": "stream",
     "text": [
      "CPU times: user 12 s, sys: 1.8 s, total: 13.8 s\n",
      "Wall time: 13.9 s\n"
     ]
    },
    {
     "data": {
      "text/plain": [
       "245160"
      ]
     },
     "execution_count": 22,
     "metadata": {},
     "output_type": "execute_result"
    }
   ],
   "source": [
    "%%time\n",
    "countPalindromicSubstringsDP(string)"
   ]
  },
  {
   "cell_type": "code",
   "execution_count": 23,
   "metadata": {},
   "outputs": [
    {
     "data": {
      "text/plain": [
       "8.115942028985506"
      ]
     },
     "execution_count": 23,
     "metadata": {},
     "output_type": "execute_result"
    }
   ],
   "source": [
    "112/13.8"
   ]
  },
  {
   "cell_type": "markdown",
   "metadata": {},
   "source": [
    "As it is shown above, the second approach (Dynamic Programming) is about eight times faster than the first approach (Brute Force)"
   ]
  },
  {
   "cell_type": "code",
   "execution_count": null,
   "metadata": {},
   "outputs": [],
   "source": []
  }
 ],
 "metadata": {
  "interpreter": {
   "hash": "2b98e5309e6e3b0bade2ed4a1aa225e8ff7275f11bed2b4c0572310c8cf94ab4"
  },
  "kernelspec": {
   "display_name": "Python 3.8.5 64-bit ('base': conda)",
   "name": "python3"
  },
  "language_info": {
   "name": "python",
   "version": ""
  }
 },
 "nbformat": 4,
 "nbformat_minor": 5
}